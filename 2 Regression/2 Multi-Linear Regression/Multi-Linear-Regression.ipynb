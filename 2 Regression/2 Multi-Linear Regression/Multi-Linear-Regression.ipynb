{
 "cells": [
  {
   "cell_type": "code",
   "execution_count": null,
   "metadata": {},
   "outputs": [],
   "source": [
    "#   Multiple linear regression is a statistical technique used to model\n",
    "#   the relationship between one dependent variable and two or more independent\n",
    "#   variables. It generalizes simple linear regression by allowing for multiple\n",
    "#   factors that could predict the outcome.\n",
    "\n",
    "#   Equation -->\n",
    "#   Y = β0 + β1X1 +β2X2 + ⋯ + βnXn + ϵ\n",
    "\n",
    "#   Where,\n",
    "#   Y = Predicted value (dependent variable)\n",
    "#   X1, X2,.. Xn = features (independent values)\n",
    "#   β0 = Intercept\n",
    "#   β1X1 +β2X2 + ⋯ + βnXn = Coefficients\n",
    "#   ϵ = Error term "
   ]
  },
  {
   "cell_type": "code",
   "execution_count": null,
   "metadata": {},
   "outputs": [],
   "source": []
  }
 ],
 "metadata": {
  "language_info": {
   "name": "python"
  }
 },
 "nbformat": 4,
 "nbformat_minor": 2
}

{
 "cells": [
  {
   "cell_type": "code",
   "execution_count": null,
   "metadata": {},
   "outputs": [],
   "source": [
    "'''\n",
    "    R-Squared -->\n",
    "    \n",
    "    R-Squared is a statistical metric that measures the proportion of variance in the dependent variable\n",
    "    (target) that is explained by the independent variable(s) (features) in the regression model.\n",
    "\n",
    "    It is also known as the coefficient of determination.\n",
    "'''"
   ]
  },
  {
   "cell_type": "code",
   "execution_count": null,
   "metadata": {},
   "outputs": [],
   "source": [
    "'''\n",
    "    Interpretation -->\n",
    "    \n",
    "    R^2 = 1: Perfect fit. The model explains all the variance in the target variable.\n",
    "    R^2 = 0: The model explains none of the variance; it performs no better than a simple mean of the target variable.\n",
    "    R^2 < 0: The model performs worse than the baseline (mean of the target).\n",
    "'''"
   ]
  },
  {
   "cell_type": "markdown",
   "metadata": {},
   "source": [
    "<img src='Source/R Squared.png' alt='R-Squared' style=\"width:800px; height:auto; margin-left:40px\">"
   ]
  },
  {
   "cell_type": "code",
   "execution_count": null,
   "metadata": {},
   "outputs": [],
   "source": [
    "'''\n",
    "    When to Use R-Square -->\n",
    "\n",
    "    You are working with regression models.\n",
    "    You want to understand the proportion of variance explained by the features.\n",
    "    Comparing different models with the same data.\n",
    "    \n",
    "    Avoid relying solely on R-Square -->\n",
    "\n",
    "    The model is non-linear or heavily complex.\n",
    "    Predictive accuracy is the primary concern.\n",
    "'''"
   ]
  }
 ],
 "metadata": {
  "language_info": {
   "name": "python"
  }
 },
 "nbformat": 4,
 "nbformat_minor": 2
}

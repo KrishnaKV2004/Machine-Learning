{
 "cells": [
  {
   "cell_type": "code",
   "execution_count": null,
   "metadata": {},
   "outputs": [],
   "source": [
    "'''\n",
    "    Regression -->\n",
    "    \n",
    "    Regression is a statistical technique used to model and analyze the relationships between\n",
    "    a dependent variable (also called the target or output) and one or more independent variables\n",
    "    (also called features or inputs). The goal of regression is to predict the dependent variable\n",
    "    based on the independent variables.\n",
    "    \n",
    "    Key Concepts in Regression -->\n",
    "    \n",
    "    Overfitting: Occurs when the model learns not only the underlying relationship but also\n",
    "    the noise in the training data. It leads to poor generalization to new data.\n",
    "    \n",
    "    Underfitting: Occurs when the model is too simple and cannot capture the underlying\n",
    "    patterns in the data.\n",
    "    \n",
    "    Regularization: Techniques like Ridge, Lasso, and Elastic Net are used to penalize large\n",
    "    coefficients and prevent overfitting.\n",
    "'''"
   ]
  },
  {
   "cell_type": "code",
   "execution_count": null,
   "metadata": {},
   "outputs": [],
   "source": [
    "'''\n",
    "    Types Of Regression -->\n",
    "    \n",
    "    Linear Regression\n",
    "    Multi-Linear Regression\n",
    "    Polynomial Regression\n",
    "    Support Vector Regression\n",
    "    Decision Tree Regression\n",
    "    Random Forest Regression\n",
    "'''"
   ]
  },
  {
   "cell_type": "markdown",
   "metadata": {},
   "source": [
    "<img src='Source/Regression.png' alt='Graph' style=\"width:700px; height:auto; margin-left:40px\">"
   ]
  },
  {
   "cell_type": "code",
   "execution_count": null,
   "metadata": {},
   "outputs": [],
   "source": [
    "'''\n",
    "    Conclusion -->\n",
    "    \n",
    "    Regression is a powerful tool for predicting continuous outcomes.\n",
    "    The choice of regression model depends on the relationship between the independent and dependent\n",
    "    variables, the nature of the data, and the desired complexity of the model. Regularization and model\n",
    "    evaluation metrics help in improving the performance and generalization of regression models.\n",
    "'''"
   ]
  }
 ],
 "metadata": {
  "language_info": {
   "name": "python"
  }
 },
 "nbformat": 4,
 "nbformat_minor": 2
}

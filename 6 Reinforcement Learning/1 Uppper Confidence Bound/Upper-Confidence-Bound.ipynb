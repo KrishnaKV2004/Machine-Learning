{
 "cells": [
  {
   "cell_type": "code",
   "execution_count": null,
   "metadata": {},
   "outputs": [],
   "source": [
    "'''\n",
    "    Upper Confidence Bound (UCB) -->\n",
    "    \n",
    "    The Upper Confidence Bound (UCB) is a popular approach in multi-armed\n",
    "    bandit problems where an agent must balance exploration (trying different\n",
    "    options to gather information) and exploitation (choosing the best-known option).\n",
    "    It is used to optimize the selection of actions based on observed rewards.\n",
    "'''"
   ]
  },
  {
   "cell_type": "code",
   "execution_count": null,
   "metadata": {},
   "outputs": [],
   "source": [
    "'''\n",
    "    Problem Context -->\n",
    "        \n",
    "    Imagine you have n slot machines (or \"arms\") with unknown probabilities\n",
    "    of reward. The goal is to maximize your total reward over time by\n",
    "    pulling the arms intelligently.\n",
    "\n",
    "    How It Works -->\n",
    "    \n",
    "    Initialization:\n",
    "    Pull each arm once to get initial reward estimates.\n",
    "    \n",
    "    Iterate:\n",
    "    For each arm, compute the UCB score.\n",
    "    Select the arm with the highest UCB score.\n",
    "    Update the reward estimate and pull count for the chosen arm.\n",
    "    Repeat until a stopping condition (e.g., time limit) is met.\n",
    "    \n",
    "    Key Features -->\n",
    "    \n",
    "    Exploration:\n",
    "    Arms with fewer pulls are favored because of the ln t/Ni(t) term.\n",
    "    \n",
    "    Exploitation:\n",
    "    Arms with higher average rewards (μi) are preferred over time.\n",
    "'''"
   ]
  },
  {
   "cell_type": "code",
   "execution_count": null,
   "metadata": {},
   "outputs": [],
   "source": [
    "'''\n",
    "    Applications -->\n",
    "    \n",
    "    Recommender Systems: Selecting items or advertisements to display.\n",
    "    Clinical Trials: Choosing treatments to test on patients.\n",
    "    Online Learning: Optimizing decisions in real-time scenarios.\n",
    "'''"
   ]
  },
  {
   "cell_type": "markdown",
   "metadata": {},
   "source": [
    "<img src='Source/UCB.png' alt='Formula' style=\"width:500px; height:auto; margin-left:40px;\">"
   ]
  },
  {
   "cell_type": "code",
   "execution_count": 3,
   "metadata": {},
   "outputs": [],
   "source": [
    "#   Importing Libraries -->\n",
    "\n",
    "import pandas as pd\n",
    "import numpy as np\n",
    "import math\n",
    "import matplotlib.pyplot as plt"
   ]
  },
  {
   "cell_type": "code",
   "execution_count": 4,
   "metadata": {},
   "outputs": [
    {
     "data": {
      "text/html": [
       "<div>\n",
       "<style scoped>\n",
       "    .dataframe tbody tr th:only-of-type {\n",
       "        vertical-align: middle;\n",
       "    }\n",
       "\n",
       "    .dataframe tbody tr th {\n",
       "        vertical-align: top;\n",
       "    }\n",
       "\n",
       "    .dataframe thead th {\n",
       "        text-align: right;\n",
       "    }\n",
       "</style>\n",
       "<table border=\"1\" class=\"dataframe\">\n",
       "  <thead>\n",
       "    <tr style=\"text-align: right;\">\n",
       "      <th></th>\n",
       "      <th>Ad 1</th>\n",
       "      <th>Ad 2</th>\n",
       "      <th>Ad 3</th>\n",
       "      <th>Ad 4</th>\n",
       "      <th>Ad 5</th>\n",
       "      <th>Ad 6</th>\n",
       "      <th>Ad 7</th>\n",
       "      <th>Ad 8</th>\n",
       "      <th>Ad 9</th>\n",
       "      <th>Ad 10</th>\n",
       "    </tr>\n",
       "  </thead>\n",
       "  <tbody>\n",
       "    <tr>\n",
       "      <th>0</th>\n",
       "      <td>1</td>\n",
       "      <td>0</td>\n",
       "      <td>0</td>\n",
       "      <td>0</td>\n",
       "      <td>1</td>\n",
       "      <td>0</td>\n",
       "      <td>0</td>\n",
       "      <td>0</td>\n",
       "      <td>1</td>\n",
       "      <td>0</td>\n",
       "    </tr>\n",
       "    <tr>\n",
       "      <th>1</th>\n",
       "      <td>0</td>\n",
       "      <td>0</td>\n",
       "      <td>0</td>\n",
       "      <td>0</td>\n",
       "      <td>0</td>\n",
       "      <td>0</td>\n",
       "      <td>0</td>\n",
       "      <td>0</td>\n",
       "      <td>1</td>\n",
       "      <td>0</td>\n",
       "    </tr>\n",
       "    <tr>\n",
       "      <th>2</th>\n",
       "      <td>0</td>\n",
       "      <td>0</td>\n",
       "      <td>0</td>\n",
       "      <td>0</td>\n",
       "      <td>0</td>\n",
       "      <td>0</td>\n",
       "      <td>0</td>\n",
       "      <td>0</td>\n",
       "      <td>0</td>\n",
       "      <td>0</td>\n",
       "    </tr>\n",
       "    <tr>\n",
       "      <th>3</th>\n",
       "      <td>0</td>\n",
       "      <td>1</td>\n",
       "      <td>0</td>\n",
       "      <td>0</td>\n",
       "      <td>0</td>\n",
       "      <td>0</td>\n",
       "      <td>0</td>\n",
       "      <td>1</td>\n",
       "      <td>0</td>\n",
       "      <td>0</td>\n",
       "    </tr>\n",
       "    <tr>\n",
       "      <th>4</th>\n",
       "      <td>0</td>\n",
       "      <td>0</td>\n",
       "      <td>0</td>\n",
       "      <td>0</td>\n",
       "      <td>0</td>\n",
       "      <td>0</td>\n",
       "      <td>0</td>\n",
       "      <td>0</td>\n",
       "      <td>0</td>\n",
       "      <td>0</td>\n",
       "    </tr>\n",
       "    <tr>\n",
       "      <th>5</th>\n",
       "      <td>1</td>\n",
       "      <td>1</td>\n",
       "      <td>0</td>\n",
       "      <td>0</td>\n",
       "      <td>0</td>\n",
       "      <td>0</td>\n",
       "      <td>0</td>\n",
       "      <td>0</td>\n",
       "      <td>0</td>\n",
       "      <td>0</td>\n",
       "    </tr>\n",
       "    <tr>\n",
       "      <th>6</th>\n",
       "      <td>0</td>\n",
       "      <td>0</td>\n",
       "      <td>0</td>\n",
       "      <td>1</td>\n",
       "      <td>0</td>\n",
       "      <td>0</td>\n",
       "      <td>0</td>\n",
       "      <td>0</td>\n",
       "      <td>0</td>\n",
       "      <td>0</td>\n",
       "    </tr>\n",
       "    <tr>\n",
       "      <th>7</th>\n",
       "      <td>1</td>\n",
       "      <td>1</td>\n",
       "      <td>0</td>\n",
       "      <td>0</td>\n",
       "      <td>1</td>\n",
       "      <td>0</td>\n",
       "      <td>0</td>\n",
       "      <td>0</td>\n",
       "      <td>0</td>\n",
       "      <td>0</td>\n",
       "    </tr>\n",
       "    <tr>\n",
       "      <th>8</th>\n",
       "      <td>0</td>\n",
       "      <td>0</td>\n",
       "      <td>0</td>\n",
       "      <td>0</td>\n",
       "      <td>0</td>\n",
       "      <td>0</td>\n",
       "      <td>0</td>\n",
       "      <td>0</td>\n",
       "      <td>0</td>\n",
       "      <td>0</td>\n",
       "    </tr>\n",
       "    <tr>\n",
       "      <th>9</th>\n",
       "      <td>0</td>\n",
       "      <td>0</td>\n",
       "      <td>1</td>\n",
       "      <td>0</td>\n",
       "      <td>0</td>\n",
       "      <td>0</td>\n",
       "      <td>0</td>\n",
       "      <td>0</td>\n",
       "      <td>0</td>\n",
       "      <td>0</td>\n",
       "    </tr>\n",
       "  </tbody>\n",
       "</table>\n",
       "</div>"
      ],
      "text/plain": [
       "   Ad 1  Ad 2  Ad 3  Ad 4  Ad 5  Ad 6  Ad 7  Ad 8  Ad 9  Ad 10\n",
       "0     1     0     0     0     1     0     0     0     1      0\n",
       "1     0     0     0     0     0     0     0     0     1      0\n",
       "2     0     0     0     0     0     0     0     0     0      0\n",
       "3     0     1     0     0     0     0     0     1     0      0\n",
       "4     0     0     0     0     0     0     0     0     0      0\n",
       "5     1     1     0     0     0     0     0     0     0      0\n",
       "6     0     0     0     1     0     0     0     0     0      0\n",
       "7     1     1     0     0     1     0     0     0     0      0\n",
       "8     0     0     0     0     0     0     0     0     0      0\n",
       "9     0     0     1     0     0     0     0     0     0      0"
      ]
     },
     "execution_count": 4,
     "metadata": {},
     "output_type": "execute_result"
    }
   ],
   "source": [
    "#   Importing Dataset -->\n",
    "\n",
    "data = pd.read_csv('Data/Ads_CTR_Optimisation.csv')\n",
    "data.head(10)"
   ]
  },
  {
   "cell_type": "code",
   "execution_count": 5,
   "metadata": {},
   "outputs": [],
   "source": [
    "#   Implementing UCB -->\n",
    "\n",
    "num_users = 10000\n",
    "num_ads = 10\n",
    "ads_selected = []\n",
    "num_selections = [0] * num_ads\n",
    "sum_reward = [0] * num_ads\n",
    "total_reward = 0\n",
    "\n",
    "for rounds in range(0,num_users):\n",
    "    ad = 0\n",
    "    max_upper_bound = 0\n",
    "    \n",
    "    for ads in range(0,num_ads):\n",
    "        \n",
    "        if (num_selections[ads] > 0):\n",
    "            avg_reward = sum_reward[ads] / num_selections[ads]\n",
    "            delta = math.sqrt(3/2 * math.log(rounds+1)/num_selections[ads])\n",
    "            upper_bound = avg_reward + delta\n",
    "            \n",
    "        else:\n",
    "            upper_bound = 1e400 # Super high value\n",
    "            \n",
    "        if (upper_bound > max_upper_bound):\n",
    "            max_upper_bound = upper_bound\n",
    "            ad = ads\n",
    "\n",
    "    ads_selected.append(ad)\n",
    "    num_selections[ad] += 1\n",
    "    reward = data.values[rounds, ad]\n",
    "    sum_reward[ad] += reward\n",
    "    total_reward += reward"
   ]
  },
  {
   "cell_type": "code",
   "execution_count": 6,
   "metadata": {},
   "outputs": [
    {
     "data": {
      "image/png": "[encoded data removed]",
      "text/plain": [
       "<Figure size 640x480 with 1 Axes>"
      ]
     },
     "metadata": {},
     "output_type": "display_data"
    }
   ],
   "source": [
    "#   Visualizing The Results -->\n",
    "\n",
    "plt.hist(ads_selected)\n",
    "plt.title('Ads Selection')\n",
    "plt.xlabel('Ads')\n",
    "plt.ylabel('Num of time ad selected')\n",
    "plt.show()"
   ]
  },
  {
   "cell_type": "code",
   "execution_count": null,
   "metadata": {},
   "outputs": [],
   "source": [
    "#   Ad 5 is selected the most !"
   ]
  },
  {
   "cell_type": "code",
   "execution_count": 7,
   "metadata": {},
   "outputs": [],
   "source": [
    "#   Let's see how quickly it can identify -->\n",
    "\n",
    "#   Changing num_users to 1000 to reduce number of rounds !\n",
    "\n",
    "num_users = 1000\n",
    "num_ads = 10\n",
    "ads_selected = []\n",
    "num_selections = [0] * num_ads\n",
    "sum_reward = [0] * num_ads\n",
    "total_reward = 0\n",
    "\n",
    "for rounds in range(0,num_users):\n",
    "    ad = 0\n",
    "    max_upper_bound = 0\n",
    "    \n",
    "    for ads in range(0,num_ads):\n",
    "        \n",
    "        if (num_selections[ads] > 0):\n",
    "            avg_reward = sum_reward[ads] / num_selections[ads]\n",
    "            delta = math.sqrt(3/2 * math.log(rounds+1)/num_selections[ads])\n",
    "            upper_bound = avg_reward + delta\n",
    "            \n",
    "        else:\n",
    "            upper_bound = 1e400 # Super high value\n",
    "            \n",
    "        if (upper_bound > max_upper_bound):\n",
    "            max_upper_bound = upper_bound\n",
    "            ad = ads\n",
    "\n",
    "    ads_selected.append(ad)\n",
    "    num_selections[ad] += 1\n",
    "    reward = data.values[rounds, ad]\n",
    "    sum_reward[ad] += reward\n",
    "    total_reward += reward"
   ]
  },
  {
   "cell_type": "code",
   "execution_count": 8,
   "metadata": {},
   "outputs": [
    {
     "data": {
      "image/png": "[encoded data removed]",
      "text/plain": [
       "<Figure size 640x480 with 1 Axes>"
      ]
     },
     "metadata": {},
     "output_type": "display_data"
    }
   ],
   "source": [
    "#   Visualizing The Results -->\n",
    "\n",
    "plt.hist(ads_selected)\n",
    "plt.title('Ads Selection')\n",
    "plt.xlabel('Ads')\n",
    "plt.ylabel('Num of time ad selected')\n",
    "plt.show()"
   ]
  },
  {
   "cell_type": "code",
   "execution_count": null,
   "metadata": {},
   "outputs": [],
   "source": [
    "#   It is still identifying the ad which is most selected !"
   ]
  },
  {
   "cell_type": "code",
   "execution_count": 9,
   "metadata": {},
   "outputs": [],
   "source": [
    "#   Let's make it 500 -->\n",
    "\n",
    "num_users = 500\n",
    "num_ads = 10\n",
    "ads_selected = []\n",
    "num_selections = [0] * num_ads\n",
    "sum_reward = [0] * num_ads\n",
    "total_reward = 0\n",
    "\n",
    "for rounds in range(0,num_users):\n",
    "    ad = 0\n",
    "    max_upper_bound = 0\n",
    "    \n",
    "    for ads in range(0,num_ads):\n",
    "        \n",
    "        if (num_selections[ads] > 0):\n",
    "            avg_reward = sum_reward[ads] / num_selections[ads]\n",
    "            delta = math.sqrt(3/2 * math.log(rounds+1)/num_selections[ads])\n",
    "            upper_bound = avg_reward + delta\n",
    "            \n",
    "        else:\n",
    "            upper_bound = 1e400 # Super high value\n",
    "            \n",
    "        if (upper_bound > max_upper_bound):\n",
    "            max_upper_bound = upper_bound\n",
    "            ad = ads\n",
    "\n",
    "    ads_selected.append(ad)\n",
    "    num_selections[ad] += 1\n",
    "    reward = data.values[rounds, ad]\n",
    "    sum_reward[ad] += reward\n",
    "    total_reward += reward"
   ]
  },
  {
   "cell_type": "code",
   "execution_count": 10,
   "metadata": {},
   "outputs": [
    {
     "data": {
      "image/png": "[encoded data removed]",
      "text/plain": [
       "<Figure size 640x480 with 1 Axes>"
      ]
     },
     "metadata": {},
     "output_type": "display_data"
    }
   ],
   "source": [
    "#   Visualizing The Results -->\n",
    "\n",
    "plt.hist(ads_selected)\n",
    "plt.title('Ads Selection')\n",
    "plt.xlabel('Ads')\n",
    "plt.ylabel('Num of time ad selected')\n",
    "plt.show()"
   ]
  },
  {
   "cell_type": "code",
   "execution_count": null,
   "metadata": {},
   "outputs": [],
   "source": [
    "#   You can see it is unable to identify the ad in 500 rounds !"
   ]
  }
 ],
 "metadata": {
  "kernelspec": {
   "display_name": "Python 3",
   "language": "python",
   "name": "python3"
  },
  "language_info": {
   "codemirror_mode": {
    "name": "ipython",
    "version": 3
   },
   "file_extension": ".py",
   "mimetype": "text/x-python",
   "name": "python",
   "nbconvert_exporter": "python",
   "pygments_lexer": "ipython3",
   "version": "3.11.9"
  }
 },
 "nbformat": 4,
 "nbformat_minor": 2
}

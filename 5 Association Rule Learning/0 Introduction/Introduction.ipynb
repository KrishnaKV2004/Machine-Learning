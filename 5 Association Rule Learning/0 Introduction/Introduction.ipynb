{
 "cells": [
  {
   "cell_type": "code",
   "execution_count": null,
   "metadata": {},
   "outputs": [],
   "source": [
    "'''\n",
    "    Association Rule Learning -->\n",
    "    \n",
    "    Association Rule Learning is a popular machine learning technique used to discover\n",
    "    interesting relationships, patterns, or associations between variables in large datasets.\n",
    "    It is often applied in the context of market basket analysis, where the goal is to\n",
    "    find rules like: \"If a customer buys item A, they are likely to buy item B.\"\n",
    "'''"
   ]
  },
  {
   "cell_type": "code",
   "execution_count": null,
   "metadata": {},
   "outputs": [],
   "source": [
    "'''\n",
    "    Key Terms in Association Rule Learning -->\n",
    "    \n",
    "    Support :\n",
    "    Indicates how frequently an itemset appears in the dataset.\n",
    "    Example : If 3 out of 10 transactions include milk, the support for milk is 0.3 or 30%.\n",
    "    \n",
    "    Confidence :\n",
    "    Measures how often the rule A->B is true, given that A is true.\n",
    "    Example : If out of 10 transactions, 4 contain both bread and butter, and 5 contain bread,\n",
    "    the confidence of \"bread → butter\" is 4/5 = 0.8 or 80%.\n",
    "    \n",
    "    Lift :\n",
    "    Evaluates the strength of a rule by comparing its confidence to the probability of B\n",
    "    occurring independently of A.\n",
    "    Lift > 1 indicates a positive association between A and B;\n",
    "    Lift < 1 suggests a negative association.   \n",
    "'''"
   ]
  },
  {
   "cell_type": "markdown",
   "metadata": {},
   "source": [
    "<img src='Source/Association.png' alt='Formula' style=\"width:500px; height:auto; margin-left:40px;\">"
   ]
  },
  {
   "cell_type": "code",
   "execution_count": null,
   "metadata": {},
   "outputs": [],
   "source": [
    "'''\n",
    "    Common Algorithms for Association Rule Learning -->\n",
    "    \n",
    "    Apriori Algorithm :\n",
    "    Generates frequent itemsets using a bottom-up approach and prunes infrequent items.\n",
    "    Efficient for smaller datasets.\n",
    "\n",
    "    FP-Growth (Frequent Pattern Growth):\n",
    "    Uses a tree-based structure to find frequent itemsets without candidate generation.\n",
    "    Faster than Apriori for large datasets.\n",
    "\n",
    "    ECLAT (Equivalence Class Transformation):\n",
    "    Uses vertical data format (item-to-transaction mapping) for efficient computation.\n",
    "'''"
   ]
  },
  {
   "cell_type": "code",
   "execution_count": null,
   "metadata": {},
   "outputs": [],
   "source": [
    "'''\n",
    "    Applications -->\n",
    "    \n",
    "    Market Basket Analysis :\n",
    "    Identifying product bundles or cross-selling opportunities.\n",
    "    Example : \"Customers who buy diapers are likely to buy beer.\"\n",
    "\n",
    "    Healthcare :\n",
    "    Finding associations between symptoms and diagnoses.\n",
    "\n",
    "    Recommendation Systems :\n",
    "    Suggesting items or products based on user behavior.\n",
    "    \n",
    "    Fraud Detection :\n",
    "    Discovering unusual patterns in transactions.\n",
    "'''"
   ]
  }
 ],
 "metadata": {
  "kernelspec": {
   "display_name": "Python 3",
   "language": "python",
   "name": "python3"
  },
  "language_info": {
   "name": "python",
   "version": "3.11.9"
  }
 },
 "nbformat": 4,
 "nbformat_minor": 2
}

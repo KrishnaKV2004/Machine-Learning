{
 "cells": [
  {
   "cell_type": "code",
   "execution_count": null,
   "metadata": {},
   "outputs": [],
   "source": [
    "'''\n",
    "    Support Vector Machine -->\n",
    "    \n",
    "    Support Vector Machine (SVM) is a supervised machine learning algorithm used for\n",
    "    classification, regression, and outlier detection tasks. Its primary goal is to\n",
    "    find the optimal hyperplane that best separates the classes in the feature space.\n",
    "    For datasets that are not linearly separable, SVM employs kernel functions to project\n",
    "    the data into a higher-dimensional space, making it easier to find a decision boundary.\n",
    "'''"
   ]
  },
  {
   "cell_type": "code",
   "execution_count": null,
   "metadata": {},
   "outputs": [],
   "source": [
    "'''\n",
    "    How SVM Works -->\n",
    "    \n",
    "    Hyperplane :\n",
    "    \n",
    "    A hyperplane is a decision boundary that separates the data points of different classes.\n",
    "    In 2D, it's a line; in 3D, it's a plane, and in higher dimensions, it's a hyperplane.\n",
    "\n",
    "    Support Vectors :\n",
    "\n",
    "    The data points closest to the hyperplane are called support vectors.\n",
    "    These points are critical as they influence the position and orientation of the hyperplane.\n",
    "\n",
    "    Maximizing the Margin :\n",
    "\n",
    "    SVM tries to find the hyperplane that maximizes the margin (distance) between the nearest points of the classes.\n",
    "    \n",
    "    Kernels for Nonlinear Data :\n",
    "\n",
    "    If data is not linearly separable, SVM uses a kernel function to transform the data into\n",
    "    a higher-dimensional space where a linear hyperplane can be applied.\n",
    "    \n",
    "    Common kernel types :\n",
    "\n",
    "    Linear Kernel\n",
    "    Polynomial Kernel\n",
    "    Radial Basis Function (RBF) or Gaussian Kernel\n",
    "    Sigmoid Kernel\n",
    "'''"
   ]
  },
  {
   "cell_type": "code",
   "execution_count": null,
   "metadata": {},
   "outputs": [],
   "source": [
    "''' \n",
    "    Advantages of SVM -->\n",
    "    \n",
    "    Works well in high-dimensional spaces.\n",
    "    Effective for linearly separable and non-linearly separable data.\n",
    "    Robust to overfitting, especially for smaller datasets.\n",
    "    \n",
    "    Disadvantages of SVM -->\n",
    "    \n",
    "    Computationally expensive for large datasets.\n",
    "    Choice of kernel and hyperparameters can significantly affect performance.\n",
    "    Does not work well with noisy data or overlapping classes.\n",
    "    \n",
    "    Applications of SVM -->\n",
    "    \n",
    "    Image classification\n",
    "    Text classification (e.g., spam detection)\n",
    "    Bioinformatics (e.g., cancer detection)\n",
    "    Handwriting recognition\n",
    "'''"
   ]
  }
 ],
 "metadata": {
  "language_info": {
   "name": "python"
  }
 },
 "nbformat": 4,
 "nbformat_minor": 2
}

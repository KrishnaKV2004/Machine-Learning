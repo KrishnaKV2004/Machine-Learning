{
 "cells": [
  {
   "cell_type": "code",
   "execution_count": null,
   "metadata": {},
   "outputs": [],
   "source": [
    "#   Machine Learning Process -->"
   ]
  },
  {
   "cell_type": "code",
   "execution_count": null,
   "metadata": {},
   "outputs": [],
   "source": [
    "#   Data Pre-Processing\n",
    "\n",
    "#   Import the data\n",
    "#   Clean the data\n",
    "#   Split into training & testing sets"
   ]
  },
  {
   "cell_type": "code",
   "execution_count": null,
   "metadata": {},
   "outputs": [],
   "source": [
    "#   Modelling \n",
    "\n",
    "#   Build the model\n",
    "#   Train the model\n",
    "#   Make predictions"
   ]
  },
  {
   "cell_type": "code",
   "execution_count": null,
   "metadata": {},
   "outputs": [],
   "source": [
    "#   Evaluation\n",
    "\n",
    "#   Calculate performance metrics\n",
    "#   Make a verdict"
   ]
  }
 ],
 "metadata": {
  "language_info": {
   "name": "python"
  }
 },
 "nbformat": 4,
 "nbformat_minor": 2
}

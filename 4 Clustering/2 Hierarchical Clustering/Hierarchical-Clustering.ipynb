{
 "cells": [
  {
   "cell_type": "code",
   "execution_count": null,
   "metadata": {},
   "outputs": [],
   "source": [
    "'''\n",
    "    Hierarchical Clustering -->\n",
    "\n",
    "    Hierarchical clustering is a method of cluster analysis that seeks to build\n",
    "    a hierarchy of clusters. It is widely used in data mining and statistics\n",
    "    to group objects based on their similarities.\n",
    "    \n",
    "    This approach can be divided into two main types -->\n",
    "    \n",
    "    #   Agglomerative Hierarchical Clustering (Bottom-Up Approach) -->\n",
    "    \n",
    "        Starts with each data point as its own cluster.\n",
    "        Gradually merges the closest clusters step by step until all points belong to a single cluster.\n",
    "        Commonly visualized using a dendrogram\n",
    "        \n",
    "    #   Divisive Hierarchical Clustering (Top-Down Approach) -->\n",
    "        \n",
    "        Starts with all data points in a single cluster.\n",
    "        Splits the cluster into smaller clusters recursively.\n",
    "        Continues until each data point is in its own cluster or a stopping criterion is met.\n",
    "'''"
   ]
  },
  {
   "cell_type": "markdown",
   "metadata": {},
   "source": [
    "<img src='Source/Clustering.png' alt='Clustering' style=\"width:500px; height:auto; margin-left:40px;\">"
   ]
  },
  {
   "cell_type": "code",
   "execution_count": null,
   "metadata": {},
   "outputs": [],
   "source": [
    "'''\n",
    "    Steps (Agglomerative HC) ->\n",
    "        \n",
    "    Compute the distance (or similarity) matrix for all pairs of points.\n",
    "    Identify the two closest clusters and merge them.\n",
    "    Recompute the distance matrix considering the newly formed cluster.\n",
    "    Repeat steps 2 and 3 until only one cluster remains.\n",
    "        \n",
    "    Linkage Criteria ->\n",
    "      \n",
    "    Single Linkage: Minimum distance between points in two clusters.\n",
    "    Complete Linkage: Maximum distance between points in two clusters.\n",
    "    Average Linkage: Average distance between points in two clusters.\n",
    "    Centroid Linkage: Distance between centroids of two clusters.\n",
    "'''"
   ]
  },
  {
   "cell_type": "code",
   "execution_count": null,
   "metadata": {},
   "outputs": [],
   "source": [
    "'''\n",
    "    Advantages -->\n",
    "    \n",
    "    Does not require specifying the number of clusters in advance.\n",
    "    Can produce a dendrogram that visually represents the data's structure.\n",
    "    Suitable for small to medium-sized datasets.\n",
    "\n",
    "    Disadvantages -->\n",
    "    \n",
    "    Computationally expensive for large datasets (time complexity: O(n^3)).\n",
    "    Sensitive to noise and outliers.\n",
    "    Requires careful selection of linkage criteria and distance metric.\n",
    "    \n",
    "    Applications -->\n",
    "    \n",
    "    Biology: Grouping species or genes with similar characteristics.\n",
    "    Market Segmentation: Grouping customers with similar buying patterns.\n",
    "    Image Analysis: Identifying similar regions in an image.\n",
    "'''"
   ]
  },
  {
   "cell_type": "code",
   "execution_count": null,
   "metadata": {},
   "outputs": [],
   "source": [
    "'''\n",
    "    Dendogram -->\n",
    "    \n",
    "    A dendrogram is a tree-like diagram used to represent the arrangement of clusters\n",
    "    formed through hierarchical clustering. It visually shows the steps in which clusters\n",
    "    are merged or split. Each branch of the tree represents a cluster, and the height\n",
    "    at which two branches merge indicates the distance or dissimilarity between the clusters.\n",
    "    \n",
    "    Parts of a Dendrogram -->\n",
    "    \n",
    "    Leaves (Bottom): Represent individual data points or initial clusters.\n",
    "    Branches (Middle): Show how clusters are merged at each step.\n",
    "    Height (Vertical Axis): Indicates the distance (or dissimilarity) between clusters when they are merged.\n",
    "    Horizontal Axis: Represents the data points or their order.\n",
    "    \n",
    "    How to Interpret a Dendrogram -->\n",
    "    \n",
    "    Horizontal lines: Represent cluster merging.\n",
    "    The height of these lines shows the distance or dissimilarity at which clusters are joined.\n",
    "    Vertical lines: Connect data points or clusters to the merging step.\n",
    "    Cut the dendrogram: To determine the clusters, draw a horizontal line across the dendrogram.\n",
    "    The number of vertical lines intersected gives the number of clusters.\n",
    "'''"
   ]
  },
  {
   "cell_type": "code",
   "execution_count": 3,
   "metadata": {},
   "outputs": [
    {
     "data": {
      "image/png": "[encoded data removed]",
      "text/plain": [
       "<Figure size 700x500 with 1 Axes>"
      ]
     },
     "metadata": {},
     "output_type": "display_data"
    }
   ],
   "source": [
    "#   Dendogram -->\n",
    "\n",
    "import numpy as np\n",
    "import matplotlib.pyplot as plt\n",
    "from scipy.cluster.hierarchy import dendrogram, linkage\n",
    "from sklearn.datasets import make_blobs\n",
    "\n",
    "# Generate synthetic data\n",
    "X, _ = make_blobs(n_samples=15, centers=3, random_state=42)\n",
    "\n",
    "# Perform hierarchical clustering\n",
    "linked = linkage(X, method='ward')\n",
    "\n",
    "# Plot dendrogram with a width of 500px\n",
    "plt.figure(figsize=(7, 5))  # Width: 5 inches, Height: 3 inches\n",
    "dendrogram(linked, \n",
    "           labels=np.arange(1, len(X)+1), \n",
    "           leaf_rotation=90, \n",
    "           leaf_font_size=10)\n",
    "plt.title('Dendrogram for Hierarchical Clustering')\n",
    "plt.xlabel('Data Point Index')\n",
    "plt.ylabel('Distance')\n",
    "plt.show()"
   ]
  }
 ],
 "metadata": {
  "kernelspec": {
   "display_name": "Python 3",
   "language": "python",
   "name": "python3"
  },
  "language_info": {
   "codemirror_mode": {
    "name": "ipython",
    "version": 3
   },
   "file_extension": ".py",
   "mimetype": "text/x-python",
   "name": "python",
   "nbconvert_exporter": "python",
   "pygments_lexer": "ipython3",
   "version": "3.11.9"
  }
 },
 "nbformat": 4,
 "nbformat_minor": 2
}

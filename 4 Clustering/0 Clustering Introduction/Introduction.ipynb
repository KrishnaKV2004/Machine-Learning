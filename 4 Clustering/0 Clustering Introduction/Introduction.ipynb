{
 "cells": [
  {
   "cell_type": "code",
   "execution_count": null,
   "metadata": {},
   "outputs": [],
   "source": [
    "'''\n",
    "    Clustering -->\n",
    "    \n",
    "    Clustering is similar to classification, but the basis is different.\n",
    "    In Clustering you don't know what you are looking for, and you are trying to identify\n",
    "    some segments or clusters in your data. When you use clustering algorithms on your dataset,\n",
    "    unexpected things can suddenly pop up like structures, clusters and groupings you would\n",
    "    have never thought of otherwise.\n",
    "'''"
   ]
  },
  {
   "cell_type": "markdown",
   "metadata": {},
   "source": [
    "<img src='Source/Clustering.png' alt='Clustering Graph' style=\"width:500px; height:auto; margin-left:40px;\">"
   ]
  },
  {
   "cell_type": "code",
   "execution_count": null,
   "metadata": {},
   "outputs": [],
   "source": [
    "'''\n",
    "    Key Characteristics of Clustering -->\n",
    "    \n",
    "    Unsupervised Learning: No labeled data; the goal is to find structure in the data.\n",
    "    Similarity: Data points in the same cluster are more similar to each other than to those in other clusters.\n",
    "    Use Cases: Market segmentation, image compression, social network analysis, anomaly detection, etc.\n",
    "'''"
   ]
  },
  {
   "cell_type": "code",
   "execution_count": null,
   "metadata": {},
   "outputs": [],
   "source": [
    "'''\n",
    "    Popular Clustering Algorithms -->\n",
    "    \n",
    "    1. K-Means Clustering\n",
    "    \n",
    "    Concept: Partitions data into k clusters by minimizing intra-cluster variance.\n",
    "    \n",
    "    Steps:\n",
    "    Randomly initialize k centroids.\n",
    "    Assign each data point to the nearest centroid.\n",
    "    Update centroids by computing the mean of assigned points.\n",
    "    Repeat until centroids stabilize.\n",
    "\n",
    "    Pros: Simple, fast for large datasets.\n",
    "    Cons: Requires k to be specified, sensitive to outliers.\n",
    "    \n",
    "    2. Hierarchical Clustering \n",
    "    \n",
    "    Concept: Builds a tree-like hierarchy of clusters (dendrogram).\n",
    "\n",
    "    Types:\n",
    "    Agglomerative: Starts with individual points and merges them iteratively.\n",
    "    Divisive: Starts with all points in one cluster and splits them iteratively.\n",
    "\n",
    "    Pros: Visualizes cluster relationships, no need to specify the number of clusters.\n",
    "    Cons: Computationally expensive for large datasets.\n",
    "'''"
   ]
  },
  {
   "cell_type": "code",
   "execution_count": null,
   "metadata": {},
   "outputs": [],
   "source": [
    "'''\n",
    "    Applications of Clustering -->\n",
    "    \n",
    "    Customer Segmentation: Group customers based on behavior for targeted marketing.\n",
    "    Anomaly Detection: Identify unusual patterns or outliers in data.\n",
    "    Document Clustering: Group similar documents for information retrieval.\n",
    "    Image Segmentation: Divide an image into meaningful parts.\n",
    "    Genomics: Analyze gene expression data.\n",
    "'''"
   ]
  }
 ],
 "metadata": {
  "language_info": {
   "name": "python"
  }
 },
 "nbformat": 4,
 "nbformat_minor": 2
}

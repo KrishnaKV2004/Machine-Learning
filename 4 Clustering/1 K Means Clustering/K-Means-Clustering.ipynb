{
 "cells": [
  {
   "cell_type": "code",
   "execution_count": null,
   "metadata": {},
   "outputs": [],
   "source": [
    "'''\n",
    "    K-Means Clustering -->\n",
    "    \n",
    "    K-Means Clustering is an unsupervised machine learning algorithm used for partitioning\n",
    "    a dataset into a set of distinct, non-overlapping groups, called clusters.\n",
    "    It minimizes the variance within clusters while maximizing the variance between clusters.\n",
    "    It's widely used in applications like market segmentation, pattern recognition,\n",
    "    image compression, and anomaly detection.\n",
    "'''"
   ]
  },
  {
   "cell_type": "code",
   "execution_count": null,
   "metadata": {},
   "outputs": [],
   "source": [
    "'''\n",
    "    Steps in K-Means Clustering -->\n",
    "    \n",
    "    Initialize Centroids :\n",
    "    Choose k random points from the dataset as the initial cluster centroids.\n",
    "\n",
    "    Assign Data Points to Clusters :\n",
    "    For each data point, compute the distance to each centroid (commonly using Euclidean distance).\n",
    "    Assign the data point to the nearest centroid.\n",
    "    \n",
    "    Update Centroids :\n",
    "    Compute the mean of all points assigned to a cluster and update the centroid to this mean.\n",
    "\n",
    "    Repeat :\n",
    "    Iterate the assignment and update steps until centroids stabilize or a maximum number\n",
    "    of iterations is reached.\n",
    "    \n",
    "    Output :\n",
    "    Return the k clusters and their centroids.\n",
    "'''"
   ]
  },
  {
   "cell_type": "markdown",
   "metadata": {},
   "source": [
    "<img src='Source/Graph/1 Data.png' style=\"width:400px; height:auto; margin-left:40px;\">"
   ]
  },
  {
   "cell_type": "markdown",
   "metadata": {},
   "source": [
    "<img src='Source/Graph/2 Centroids.png' style=\"width:400px; height:auto; margin-left:40px;\">"
   ]
  },
  {
   "cell_type": "markdown",
   "metadata": {},
   "source": [
    "<img src='Source/Graph/3 Cluster.png' style=\"width:400px; height:auto; margin-left:40px;\">"
   ]
  },
  {
   "cell_type": "markdown",
   "metadata": {},
   "source": [
    "<img src='Source/Graph/4 Update.png' style=\"width:400px; height:auto; margin-left:40px;\">"
   ]
  },
  {
   "cell_type": "markdown",
   "metadata": {},
   "source": [
    "<img src='Source/Graph/5 Optimal.png' style=\"width:400px; height:auto; margin-left:40px;\">"
   ]
  },
  {
   "cell_type": "code",
   "execution_count": null,
   "metadata": {},
   "outputs": [],
   "source": [
    "'''\n",
    "    Advantages -->\n",
    "\n",
    "    Simple and easy to implement.\n",
    "    Efficient for large datasets (complexity O(n⋅k⋅t), where n is the number of data points,\n",
    "    k is the number of clusters, and t is the number of iterations).\n",
    "    Works well with spherical, equally-sized clusters.\n",
    "    \n",
    "    Disadvantages -->\n",
    "\n",
    "    Sensitive to the initial placement of centroids.\n",
    "    Requires pre-specifying k, the number of clusters.\n",
    "    Not suitable for clusters with varying densities or non-spherical shapes.\n",
    "    Can get stuck in local optima.\n",
    "'''"
   ]
  },
  {
   "cell_type": "code",
   "execution_count": null,
   "metadata": {},
   "outputs": [],
   "source": [
    "'''\n",
    "    Choosing the Optimal k -->\n",
    "    \n",
    "    The Elbow Method :\n",
    "    Calculate the sum of squared distances (inertia) for different values of k.\n",
    "    Plot k against inertia.\n",
    "    The \"elbow point\" (where inertia decreases sharply and then levels off) indicates the optimal k.\n",
    "'''"
   ]
  },
  {
   "cell_type": "markdown",
   "metadata": {},
   "source": [
    "<img src='Source/Elbow.png' alt='Elbow Method' style=\"width:500px; height:auto; margin-left:40px;\">"
   ]
  }
 ],
 "metadata": {
  "language_info": {
   "name": "python"
  }
 },
 "nbformat": 4,
 "nbformat_minor": 2
}

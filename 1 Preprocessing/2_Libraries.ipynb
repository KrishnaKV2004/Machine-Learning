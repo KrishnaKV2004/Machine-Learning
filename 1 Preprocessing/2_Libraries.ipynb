{
 "cells": [
  {
   "cell_type": "code",
   "execution_count": null,
   "metadata": {},
   "outputs": [],
   "source": [
    "'''\n",
    "    Libraries -->\n",
    "\n",
    "    In Python, libraries are collections of pre-written code that provide functions, classes, and modules\n",
    "    for performing common tasks, so you don't have to write everything from scratch. Libraries make it easier\n",
    "    and faster to develop applications by providing reusable tools for various tasks like data manipulation,\n",
    "    numerical computing, machine learning, web development, etc\n",
    "'''"
   ]
  },
  {
   "cell_type": "code",
   "execution_count": null,
   "metadata": {},
   "outputs": [],
   "source": [
    "'''\n",
    "    Importing Libraries -->\n",
    "\n",
    "    The import keyword allows you to import an entire library (module) into your script.\n",
    "    Once imported, you can use the module’s functions, classes, and variables by prefixing them with the module name.\n",
    "\n",
    "    The from keyword allows you to import specific functions, classes, or variables from a module.\n",
    "    This can be useful if you only need part of a module, and you don't want to import everything.\n",
    "\n",
    "    You can give a module or a specific function an alias (a shorthand name) using the as keyword.\n",
    "    This is commonly done with larger libraries like pandas and numpy to make them easier to use.\n",
    "'''"
   ]
  },
  {
   "cell_type": "code",
   "execution_count": null,
   "metadata": {},
   "outputs": [],
   "source": [
    "import pandas as pd\n",
    "import numpy as np\n",
    "import matplotlib.pyplot as plt"
   ]
  },
  {
   "cell_type": "code",
   "execution_count": null,
   "metadata": {},
   "outputs": [],
   "source": [
    "#   That's how you import libraries in your code !"
   ]
  }
 ],
 "metadata": {
  "language_info": {
   "name": "python"
  }
 },
 "nbformat": 4,
 "nbformat_minor": 2
}

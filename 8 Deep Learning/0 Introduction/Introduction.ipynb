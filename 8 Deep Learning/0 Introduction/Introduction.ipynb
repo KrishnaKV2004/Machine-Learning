{
 "cells": [
  {
   "cell_type": "code",
   "execution_count": null,
   "metadata": {},
   "outputs": [],
   "source": [
    "'''\n",
    "    Deep Learning -->\n",
    "\n",
    "    Deep learning is a subset of machine learning, which is itself a part\n",
    "    of artificial intelligence (AI). It focuses on using neural networks\n",
    "    with many layers (hence \"deep\") to model complex patterns in data.\n",
    "    These models learn from large amounts of data and are particularly\n",
    "    effective in tasks such as image and speech recognition, natural language\n",
    "    processing, and more.\n",
    "'''"
   ]
  },
  {
   "cell_type": "code",
   "execution_count": null,
   "metadata": {},
   "outputs": [],
   "source": [
    "'''\n",
    "    Key Components -->\n",
    "\n",
    "    Neural Networks: The foundation of deep learning, consisting of layers\n",
    "    of nodes (neurons) connected to each other. Each connection has a weight\n",
    "    that is adjusted during training.\n",
    "\n",
    "    Activation Functions: These functions help determine the output of a\n",
    "    neural network. Common examples include ReLU (Rectified Linear Unit),\n",
    "    Sigmoid, and Tanh.\n",
    "\n",
    "    Backpropagation: A technique used to optimize the weights in the network\n",
    "    by calculating the gradient of the loss function and updating the weights\n",
    "    to minimize the loss.\n",
    "\n",
    "    Loss Functions: These quantify how well the network is performing, such as\n",
    "    Mean Squared Error (MSE) for regression tasks or Cross-Entropy Loss for\n",
    "    classification.\n",
    "\n",
    "    Optimization Algorithms: Methods like Gradient Descent, Adam, and RMSprop\n",
    "    are used to minimize the loss function by adjusting the weights.\n",
    "'''"
   ]
  },
  {
   "cell_type": "code",
   "execution_count": null,
   "metadata": {},
   "outputs": [],
   "source": [
    "'''\n",
    "    Applications -->\n",
    "\n",
    "    Computer Vision: For tasks like image classification, object detection,\n",
    "    and segmentation.\n",
    "\n",
    "    Natural Language Processing (NLP): For text analysis, translation,\n",
    "    sentiment analysis, etc.\n",
    "    \n",
    "    Reinforcement Learning: Used in decision-making processes, like training\n",
    "    agents for gaming or robotics.\n",
    "'''"
   ]
  }
 ],
 "metadata": {
  "kernelspec": {
   "display_name": "env",
   "language": "python",
   "name": "python3"
  },
  "language_info": {
   "name": "python",
   "version": "3.10.0"
  }
 },
 "nbformat": 4,
 "nbformat_minor": 2
}

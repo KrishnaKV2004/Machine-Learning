{
 "cells": [
  {
   "cell_type": "code",
   "execution_count": null,
   "metadata": {},
   "outputs": [],
   "source": [
    "#   Encoding Categorical Data -->\n",
    "\n",
    "#   Categorical encoding refers to the process of converting categorical data\n",
    "#   (data that can take on a limited number of values,typically representing categories or labels)\n",
    "#   into a numerical format that machine learning algorithms can understand and work with\n",
    "\n",
    "#   Since many machine learning models can only handle numerical data, categorical features need to be\n",
    "#   transformed into numbers. There are several techniques to achieve this, depending on the type of categorical\n",
    "#   data and the specific problem. Here are some common methods for categorical encoding"
   ]
  },
  {
   "cell_type": "code",
   "execution_count": null,
   "metadata": {},
   "outputs": [],
   "source": [
    "#   Methods -->\n",
    "\n",
    "#   Label Encoding\n",
    "#   One-Hot Encoding\n",
    "#   Binary Encoding\n",
    "#   Frequency Encoding\n",
    "#   Mean Encoding\n",
    "#   Ordinal Encoding"
   ]
  }
 ],
 "metadata": {
  "language_info": {
   "name": "python"
  }
 },
 "nbformat": 4,
 "nbformat_minor": 2
}

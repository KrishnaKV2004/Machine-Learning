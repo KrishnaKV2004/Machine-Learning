{
 "cells": [
  {
   "cell_type": "code",
   "execution_count": null,
   "metadata": {},
   "outputs": [],
   "source": [
    "# Importing the necessary libraries\n",
    "\n",
    "import numpy as np\n",
    "import pandas as pd \n",
    "from sklearn.compose import ColumnTransformer\n",
    "from sklearn.preprocessing import LabelEncoder\n",
    "from sklearn.preprocessing import OneHotEncoder\n",
    "\n",
    "# Load the dataset\n",
    "\n",
    "data = pd.read_csv('Data/Titanic.csv')\n",
    "\n",
    "# Identify the categorical data\n",
    "\n",
    "cat_features = ['Sex', 'Embarked', 'Pclass']\n",
    "\n",
    "# Implement an instance of the ColumnTransformer class\n",
    "\n",
    "le = LabelEncoder()\n",
    "clt = ColumnTransformer(transformers = [('encoder', OneHotEncoder(), cat_features)], remainder = 'passthrough')\n",
    "\n",
    "# Apply the fit_transform method on the instance of ColumnTransformer\n",
    "\n",
    "x_data = np.array(clt.fit_transform(data))\n",
    "\n",
    "# Use LabelEncoder to encode binary categorical data\n",
    "\n",
    "y_data = le.fit_transform(data['Survived'])\n",
    "\n",
    "# Print the updated matrix of features and the dependent variable vector\n",
    "\n",
    "print(x_data)\n",
    "print(y_data)"
   ]
  }
 ],
 "metadata": {
  "language_info": {
   "name": "python"
  }
 },
 "nbformat": 4,
 "nbformat_minor": 2
}
